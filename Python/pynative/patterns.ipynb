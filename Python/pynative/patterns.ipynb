{
 "cells": [
  {
   "cell_type": "markdown",
   "metadata": {},
   "source": [
    "## Pattern Creation"
   ]
  },
  {
   "cell_type": "markdown",
   "metadata": {},
   "source": [
    "## Number Pattern 📐"
   ]
  },
  {
   "cell_type": "code",
   "execution_count": null,
   "metadata": {},
   "outputs": [],
   "source": [
    "\"\"\" Left align Pyramid (same columns)\n",
    "1\n",
    "1 2\n",
    "1 2 3\n",
    "1 2 3 4\n",
    "1 2 3 4 5\n",
    "\"\"\"\n",
    "# Number of rows\n",
    "n = int(input())\n",
    "# Outer loop for number of rows\n",
    "for i in range(1,n+1):\n",
    "    # Nested loop for columns\n",
    "    for j in range(1,i+1):\n",
    "        # Displaying numbers\n",
    "        print(j,end=' ')\n",
    "    # Printing new line after each row\n",
    "    print()"
   ]
  },
  {
   "cell_type": "code",
   "execution_count": 9,
   "metadata": {},
   "outputs": [
    {
     "name": "stdout",
     "output_type": "stream",
     "text": [
      "1 \n",
      "2 2 \n",
      "3 3 3 \n",
      "4 4 4 4 \n",
      "5 5 5 5 5 \n"
     ]
    }
   ],
   "source": [
    "\"\"\" Left align Pyramid (same rows)\n",
    "1 \n",
    "2 2 \n",
    "3 3 3 \n",
    "4 4 4 4 \n",
    "5 5 5 5 5 \n",
    "\"\"\"\n",
    "# Number of rows\n",
    "n = int(input())\n",
    "# Outer loop for number of rows\n",
    "for i in range(1,n+1):\n",
    "    # Nested loop for columns\n",
    "    for j in range(1,i+1):\n",
    "        # Displaying numbers\n",
    "        print(i,end=' ')\n",
    "    # Printing new line after each row\n",
    "    print()"
   ]
  },
  {
   "cell_type": "code",
   "execution_count": 13,
   "metadata": {},
   "outputs": [
    {
     "name": "stdout",
     "output_type": "stream",
     "text": [
      "5 5 5 5 5 \n",
      "4 4 4 4 \n",
      "3 3 3 \n",
      "2 2 \n",
      "1 \n"
     ]
    }
   ],
   "source": [
    "\"\"\" Left align Inverted Pyramid (same rows)\n",
    "1 1 1 1 1 \n",
    "2 2 2 2 \n",
    "3 3 3 \n",
    "4 4 \n",
    "5\n",
    "\"\"\"\n",
    "# Number of rows\n",
    "n = int(input())\n",
    "# Outer loop for number of rows\n",
    "for i in range(n, 0, -1):\n",
    "    # Nested loop for columns\n",
    "    for j in range(0, i):\n",
    "        #Displaying numbers\n",
    "        print(i,end=' ')\n",
    "    # Newline after each row\n",
    "    print()"
   ]
  }
 ],
 "metadata": {
  "kernelspec": {
   "display_name": "Python 3.10.8 ('venv': venv)",
   "language": "python",
   "name": "python3"
  },
  "language_info": {
   "codemirror_mode": {
    "name": "ipython",
    "version": 3
   },
   "file_extension": ".py",
   "mimetype": "text/x-python",
   "name": "python",
   "nbconvert_exporter": "python",
   "pygments_lexer": "ipython3",
   "version": "3.10.8"
  },
  "orig_nbformat": 4,
  "vscode": {
   "interpreter": {
    "hash": "23bc30872c5bc8080b632dcc68423770999597edef37e2d70ed5d16dca9662b4"
   }
  }
 },
 "nbformat": 4,
 "nbformat_minor": 2
}
